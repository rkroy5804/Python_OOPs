{
  "nbformat": 4,
  "nbformat_minor": 0,
  "metadata": {
    "colab": {
      "provenance": []
    },
    "kernelspec": {
      "name": "python3",
      "display_name": "Python 3"
    },
    "language_info": {
      "name": "python"
    }
  },
  "cells": [
    {
      "cell_type": "markdown",
      "source": [
        "# Theory Questions:- **Python OOPs**\n",
        "\n",
        "---\n",
        "\n"
      ],
      "metadata": {
        "id": "2eiiOIebFc1C"
      }
    },
    {
      "cell_type": "markdown",
      "source": [
        "# Q1. What is Object-Oriented Programming(OOP)?\n",
        "##  Definition  \n",
        "**Object-Oriented Programming (OOP)** is a programming paradigm based on the concept of **“objects”**, which can contain **data** (attributes) and **code** (methods).  \n",
        "It focuses on organizing software into reusable, modular pieces instead of writing code in a linear (procedural) way.\n",
        "\n",
        "---\n",
        "\n",
        "## Key Concepts of OOP\n",
        "1. **Class** → Blueprint/template for creating objects.  \n",
        "2. **Object** → Instance of a class (real-world entity).  \n",
        "3. **Encapsulation** → Binding data and methods together in a single unit.  \n",
        "4. **Abstraction** → Hiding unnecessary details and showing only the essential features.  \n",
        "5. **Inheritance** → One class can acquire properties and methods of another class.  \n",
        "6. **Polymorphism** → Ability to use the same interface with different forms (method overriding & overloading).\n",
        "\n",
        "---\n",
        "\n",
        "##  Example in Python\n",
        "```python\n",
        "# Class (Blueprint)\n",
        "class Car:\n",
        "    def __init__(self, brand, model):\n",
        "        self.brand = brand   # Attribute\n",
        "        self.model = model\n",
        "\n",
        "    def display_info(self):   # Method\n",
        "        return f\"Car: {self.brand} {self.model}\"\n",
        "\n",
        "# Object (Instance of Class)\n",
        "car1 = Car(\"Tesla\", \"Model S\")\n",
        "car2 = Car(\"BMW\", \"X5\")\n",
        "\n",
        "print(car1.display_info())   # Output Car: Tesla Model S\n",
        "print(car2.display_info())   # Output Car: BMW X5\n",
        "\n"
      ],
      "metadata": {
        "id": "4Z5sH_LTF3Qn"
      }
    },
    {
      "cell_type": "markdown",
      "source": [
        "# Q2. What is a Class in OOP?\n",
        "\n",
        "A **class** in Object-Oriented Programming (OOP) is a **blueprint or template** that defines how to create objects.  \n",
        "It describes the **attributes (data/properties)** and **methods (functions/behaviors)** that the objects of that class will have.\n",
        "\n",
        "---\n",
        "\n",
        "### Key Points about Classes:\n",
        "1. **Blueprint Concept**  \n",
        "   - Think of a class as a **design/plan**.  \n",
        "   - Example: An architect draws a blueprint of a house → but the actual house is built later.  \n",
        "\n",
        "2. **Objects are Instances**  \n",
        "   - Objects are **real, usable things** created from the class.  \n",
        "   - Example: If `Car` is a class (blueprint), then `Tesla` or `BMW` are actual objects (real cars).  \n",
        "\n",
        "3. **Encapsulation of Data + Behavior**  \n",
        "   - Classes **combine attributes (variables)** and **methods (functions)** into one unit.  \n",
        "   - Example: A `Car` has attributes like `brand`, `model` and methods like `start()`, `brake()`.  \n",
        "\n",
        "4. **Reusability**  \n",
        "   - Once a class is defined, you can create **multiple objects** without rewriting code.  \n",
        "   - Example: From one `Car` class, you can create `car1`, `car2`, `car3` easily.\n",
        "\n",
        "---\n",
        "\n",
        "###  Example in Python:\n",
        "```python\n",
        "# Defining a class\n",
        "class Car:\n",
        "    # Constructor (__init__) to initialize attributes\n",
        "    def __init__(self, brand, model):\n",
        "        self.brand = brand      # attribute (variable)\n",
        "        self.model = model      # attribute (variable)\n",
        "    \n",
        "    # Method (function inside class)\n",
        "    def display_info(self):\n",
        "        return f\"{self.brand} {self.model}\"\n",
        "\n",
        "# Creating objects (instances of the class)\n",
        "car1 = Car(\"Tesla\", \"Model S\")\n",
        "car2 = Car(\"BMW\", \"X5\")\n",
        "\n",
        "# Using object methods\n",
        "print(car1.display_info())  # Output: Tesla Model S\n",
        "print(car2.display_info())  # Output: BMW X5\n"
      ],
      "metadata": {
        "id": "G96jpgCoIl4D"
      }
    },
    {
      "cell_type": "markdown",
      "source": [
        "# Q3. What is an Object in OOP?\n",
        "\n",
        "An **object** in Object-Oriented Programming (OOP) is a **real-world entity** or an **instance of a class**.  \n",
        "It represents something that has **state (data/attributes)** and **behavior (methods/functions)**.\n",
        "\n",
        "---\n",
        "\n",
        "### Key Points about Objects:\n",
        "1. **Instance of a Class**  \n",
        "   - A class is like a **blueprint**, and an object is the **actual product** created from that blueprint.  \n",
        "   - Example: If `Car` is a class, then `Tesla Model S` or `BMW X5` are objects.  \n",
        "\n",
        "2. **Has State and Behavior**  \n",
        "   - **State (attributes/variables):** Describes the properties of the object.  \n",
        "     - e.g., `color = red`, `speed = 120`.  \n",
        "   - **Behavior (methods/functions):** Describes what the object can do.  \n",
        "     - e.g., `drive()`, `brake()`.  \n",
        "\n",
        "3. **Multiple Objects from One Class**  \n",
        "   - You can create **many objects** from the same class, each with its own data.  \n",
        "   - Example: `car1`, `car2`, `car3` all come from the `Car` class but can have different brands and models.  \n",
        "\n",
        "---\n",
        "\n",
        "### Example in Python:\n",
        "```python\n",
        "# Class definition\n",
        "class Car:\n",
        "    def __init__(self, brand, color):\n",
        "        self.brand = brand      # attribute\n",
        "        self.color = color      # attribute\n",
        "    \n",
        "    def drive(self):            # method\n",
        "        return f\"{self.brand} car is driving!\"\n",
        "\n",
        "# Creating objects (instances of Car)\n",
        "car1 = Car(\"Tesla\", \"Red\")\n",
        "car2 = Car(\"BMW\", \"Black\")\n",
        "\n",
        "# Accessing attributes and methods\n",
        "print(car1.brand)         # Output: Tesla\n",
        "print(car2.color)         # Output: Black\n",
        "print(car1.drive())       # Output: Tesla car is driving!\n"
      ],
      "metadata": {
        "id": "_WKSG2chKNKq"
      }
    },
    {
      "cell_type": "markdown",
      "source": [
        "# Q4. What is the Difference between Abstraction and Encapsulation?\n",
        "\n",
        "Both **Abstraction** and **Encapsulation** are key concepts of Object-Oriented Programming (OOP).  \n",
        "They sound similar but serve **different purposes**.\n",
        "\n",
        "---\n",
        "\n",
        "### 1. Abstraction\n",
        "- **Definition:**  \n",
        "  Abstraction is the process of **hiding implementation details** and **showing only the essential features** of an object.\n",
        "- **Focus:** *What an object does* (not how it does it).  \n",
        "- **Achieved by:**  \n",
        "  - Abstract classes  \n",
        "  - Interfaces  \n",
        "- **Example in Real Life:**  \n",
        "  - When you drive a car, you only know about the **steering wheel, accelerator, brakes** (essential features).  \n",
        "  - You don’t need to know the complex implementation of the engine or gear mechanism.\n",
        "\n",
        "---\n",
        "\n",
        "### 2. Encapsulation\n",
        "- **Definition:**  \n",
        "  Encapsulation is the process of **wrapping data (attributes) and methods (functions)** into a single unit (class).  \n",
        "  It also **restricts direct access** to some data using **access modifiers** (`private`, `protected`, `public`).\n",
        "- **Focus:** *How the data is hidden/protected*.  \n",
        "- **Achieved by:**  \n",
        "  - Using classes  \n",
        "  - Access modifiers (`_protected`, `__private`) in Python\n",
        "- **Example in Real Life:**  \n",
        "  - A **capsule medicine** wraps several ingredients inside one capsule shell.  \n",
        "  - You don’t see or touch the ingredients directly.\n",
        "\n",
        "---\n",
        "\n",
        "### Tabular Difference:\n",
        "\n",
        "| Feature                | Abstraction  | Encapsulation  |\n",
        "|-------------------------|----------------|------------------|\n",
        "| **Definition**          | Hides implementation details, shows only essential features. | Bundles data and methods together, hides data from direct access. |\n",
        "| **Focus**               | *What* an object does. | *How* the data is hidden/protected. |\n",
        "| **Achieved using**      | Abstract classes, Interfaces. | Classes, Access Modifiers. |\n",
        "| **Real-Life Example**   | Car Driver only sees pedals & steering (not engine details). | Capsule wraps medicine inside. |\n",
        "\n",
        "---\n",
        "\n",
        "### Example in Python\n",
        "\n",
        "```python\n",
        "from abc import ABC, abstractmethod\n",
        "\n",
        "# Abstraction Example\n",
        "class Vehicle(ABC):\n",
        "    @abstractmethod\n",
        "    def start(self):\n",
        "        pass\n",
        "\n",
        "class Car(Vehicle):\n",
        "    def start(self):\n",
        "        return \"Car engine starts with a key!\"\n",
        "\n",
        "# Encapsulation Example\n",
        "class Account:\n",
        "    def __init__(self, balance):\n",
        "        self.__balance = balance   # private variable\n",
        "\n",
        "    def deposit(self, amount):\n",
        "        self.__balance += amount\n",
        "\n",
        "    def get_balance(self):\n",
        "        return self.__balance\n",
        "\n",
        "# Using Abstraction\n",
        "my_car = Car()\n",
        "print(my_car.start())  # Output: Car engine starts with a key!\n",
        "\n",
        "# Using Encapsulation\n",
        "acc = Account(1000)\n",
        "acc.deposit(500)\n",
        "print(acc.get_balance())  # Output: 1500\n"
      ],
      "metadata": {
        "id": "cTwxD8SlLBUi"
      }
    },
    {
      "cell_type": "markdown",
      "source": [
        "# Q5. What are Dunder Methods in Python?\n",
        "\n",
        "---\n",
        "\n",
        "### Definition:\n",
        "- **Dunder methods** (short for *“Double UNDERSCORE”*) are special methods in Python.  \n",
        "- They always start and end with **double underscores** like `__init__`, `__str__`, `__len__`.  \n",
        "- Also called **magic methods** because they add *extra functionality* to classes and objects.  \n",
        "\n",
        "---\n",
        "\n",
        "### Purpose of Dunder Methods:\n",
        "- To make **classes behave like built-in types**.  \n",
        "- To **customize operators** (like `+`, `-`, `<`, etc.) for user-defined classes.  \n",
        "- To define **object creation, representation, comparison, arithmetic, etc.**\n",
        "\n",
        "---\n",
        "\n",
        "### Commonly Used Dunder Methods:\n",
        "\n",
        "| Dunder Method  | Purpose |\n",
        "|----------------|---------|\n",
        "| `__init__`     | Constructor → Initializes an object. |\n",
        "| `__str__`      | Returns a **string representation** of the object (used with `print()`). |\n",
        "| `__repr__`     | Official representation of the object (useful for debugging). |\n",
        "| `__len__`      | Defines behavior for `len(obj)`. |\n",
        "| `__add__`      | Defines behavior for `+` operator. |\n",
        "| `__eq__`       | Defines behavior for `==` operator. |\n",
        "| `__getitem__`  | Defines behavior for indexing `obj[i]`. |\n",
        "| `__call__`     | Makes an object callable like a function. |\n",
        "\n",
        "---\n",
        "\n",
        "### Example in Python\n",
        "\n",
        "```python\n",
        "class Book:\n",
        "    def __init__(self, title, pages):\n",
        "        self.title = title\n",
        "        self.pages = pages\n",
        "\n",
        "    def __str__(self):   # For print()\n",
        "        return f\"Book: {self.title}, Pages: {self.pages}\"\n",
        "\n",
        "    def __len__(self):   # For len()\n",
        "        return self.pages\n",
        "\n",
        "    def __add__(self, other):  # For +\n",
        "        return self.pages + other.pages\n",
        "\n",
        "# Creating objects\n",
        "book1 = Book(\"Python Basics\", 250)\n",
        "book2 = Book(\"Advanced Python\", 350)\n",
        "\n",
        "print(book1)          # Uses __str__ → Book: Python Basics, Pages: 250\n",
        "print(len(book1))     # Uses __len__ → 250\n",
        "print(book1 + book2)  # Uses __add__ → 600\n"
      ],
      "metadata": {
        "id": "A6ro8PfAL1h2"
      }
    },
    {
      "cell_type": "markdown",
      "source": [
        "# Q6. Explain the Concept of Inheritance in OOP\n",
        "\n",
        "---\n",
        "\n",
        "### Definition:\n",
        "- **Inheritance** is an Object-Oriented Programming (OOP) concept where a **class (child/derived class)** can **reuse the properties and methods** of another class (parent/base class).  \n",
        "- It allows **code reusability** and represents an **“is-a” relationship** between classes.\n",
        "\n",
        "---\n",
        "\n",
        "### Key Points:\n",
        "1. The **child class** inherits data members (variables) and methods (functions) from the **parent class**.  \n",
        "2. The child class can:\n",
        "   - **Use** parent class features as they are.\n",
        "   - **Override** parent methods to change behavior.\n",
        "   - **Add new** methods or attributes of its own.\n",
        "3. Helps in writing **clean, reusable, and maintainable code**.\n",
        "\n",
        "---\n",
        "\n",
        "### Types of Inheritance in Python:\n",
        "\n",
        "1. **Single Inheritance** → One child inherits from one parent.  \n",
        "2. **Multiple Inheritance** → A child inherits from more than one parent.  \n",
        "3. **Multilevel Inheritance** → A child inherits from a parent, which in turn inherits from another class.  \n",
        "4. **Hierarchical Inheritance** → Multiple child classes inherit from the same parent.  \n",
        "5. **Hybrid Inheritance** → Combination of multiple inheritance types.\n",
        "\n",
        "---\n",
        "\n",
        "### Example in Python\n",
        "\n",
        "```python\n",
        "# Parent Class\n",
        "class Animal:\n",
        "    def speak(self):\n",
        "        return \"This animal makes a sound.\"\n",
        "\n",
        "# Child Class\n",
        "class Dog(Animal):\n",
        "    def speak(self):   # Overriding parent method\n",
        "        return \"Woof! Woof!\"\n",
        "\n",
        "# Another Child Class\n",
        "class Cat(Animal):\n",
        "    def speak(self):\n",
        "        return \"Meow!\"\n",
        "\n",
        "# Using the classes\n",
        "dog = Dog()\n",
        "cat = Cat()\n",
        "\n",
        "print(dog.speak())  # Output: Woof! Woof!\n",
        "print(cat.speak())  # Output: Meow!\n"
      ],
      "metadata": {
        "id": "GfSDqwfOMx4w"
      }
    },
    {
      "cell_type": "markdown",
      "source": [
        "# Q7. What is Polymorphism in OOP?\n",
        "\n",
        "---\n",
        "\n",
        "### Definition:\n",
        "- The word **Polymorphism** comes from Greek:  \n",
        "  - *Poly* = many  \n",
        "  - *Morph* = forms  \n",
        "- In OOP, **Polymorphism** means the ability of **different classes to respond to the same method name in different ways**.  \n",
        "- It allows a single function, operator, or method to have **multiple implementations**.\n",
        "\n",
        "---\n",
        "\n",
        "### Key Idea:\n",
        "- **One interface, multiple implementations.**  \n",
        "- The exact behavior depends on the **object** that is calling the method.  \n",
        "\n",
        "---\n",
        "\n",
        "### Types of Polymorphism in Python:\n",
        "\n",
        "1. **Compile-time Polymorphism (Overloading)**  \n",
        "   - Having multiple methods with the same name but different arguments.  \n",
        "   - *Note*: Python doesn’t support traditional overloading, but we can achieve similar behavior using *default arguments* or `*args`.  \n",
        "\n",
        "2. **Run-time Polymorphism (Overriding)**  \n",
        "   - When a child class provides its **own implementation** of a method already defined in the parent class.  \n",
        "\n",
        "---\n",
        "\n",
        "### Example 1: Method Overriding (Run-time Polymorphism)\n",
        "\n",
        "```python\n",
        "class Animal:\n",
        "    def speak(self):\n",
        "        return \"Some sound\"\n",
        "\n",
        "class Dog(Animal):\n",
        "    def speak(self):\n",
        "        return \"Woof!\"\n",
        "\n",
        "class Cat(Animal):\n",
        "    def speak(self):\n",
        "        return \"Meow!\"\n",
        "\n",
        "# Same method name → different outputs\n",
        "animals = [Dog(), Cat(), Animal()]\n",
        "for a in animals:\n",
        "    print(a.speak())\n",
        "\n",
        "\n",
        "# Output\n",
        "Woof!\n",
        "Meow!\n",
        "Some sound\n",
        "```\n",
        "---\n",
        "\n",
        "### Example 2: Polymorphism with Built-in Functions\n",
        "\n",
        "```python\n",
        "print(len(\"Ritesh\"))      # len() works with string → 6\n",
        "print(len([1, 2, 3, 4]))  # len() works with list   → 4\n",
        "\n",
        "\n"
      ],
      "metadata": {
        "id": "SMDa2dr5NXK9"
      }
    },
    {
      "cell_type": "markdown",
      "source": [
        "#Q8. How is Encapsulation achieved in Python?\n",
        "\n",
        "---\n",
        "\n",
        "### Definition Recap:\n",
        "- **Encapsulation** = wrapping up **data (variables)** and **methods (functions)** into a single unit (class).  \n",
        "- It also helps in **restricting direct access** to data by using *access modifiers*.\n",
        "\n",
        "---\n",
        "\n",
        "### Ways to Achieve Encapsulation in Python:\n",
        "\n",
        "1. **Using Classes**  \n",
        "   - Class binds data (attributes) and methods together.  \n",
        "   - Example: A `Car` class containing both `speed` and `drive()`.\n",
        "\n",
        "2. **Access Modifiers** in Python  \n",
        "   Python does not have strict private/protected keywords like Java or C++,  \n",
        "   but it achieves encapsulation through **naming conventions**:\n",
        "   \n",
        "   - **Public** (default): Accessible everywhere.  \n",
        "     ```python\n",
        "     class Car:\n",
        "         def __init__(self):\n",
        "             self.color = \"Red\"  # Public attribute\n",
        "     car = Car()\n",
        "     print(car.color)  # Accessible\n",
        "     ```\n",
        "\n",
        "   - **Protected (`_var`)**: Should not be accessed directly outside class (convention).  \n",
        "     ```python\n",
        "     class Car:\n",
        "         def __init__(self):\n",
        "             self._speed = 120  # Protected\n",
        "     car = Car()\n",
        "     print(car._speed)  # Possible, but discouraged\n",
        "     ```\n",
        "\n",
        "   - **Private (`__var`)**: Name mangling makes it harder to access from outside.  \n",
        "     ```python\n",
        "     class Car:\n",
        "         def __init__(self):\n",
        "             self.__engine_number = \"ENG123\"  # Private\n",
        "     car = Car()\n",
        "     # print(car.__engine_number)   Error\n",
        "     print(car._Car__engine_number)  #  Access through name mangling\n",
        "     ```\n",
        "\n",
        "3. **Getter and Setter Methods**  \n",
        "   - Used to safely access or modify private variables.  \n",
        "   ```python\n",
        "   class BankAccount:\n",
        "       def __init__(self, balance):\n",
        "           self.__balance = balance  # Private variable\n",
        "\n",
        "       # Getter\n",
        "       def get_balance(self):\n",
        "           return self.__balance\n",
        "\n",
        "       # Setter\n",
        "       def set_balance(self, amount):\n",
        "           if amount >= 0:\n",
        "               self.__balance = amount\n",
        "           else:\n",
        "               print(\"Invalid amount!\")\n",
        "   acc = BankAccount(500)\n",
        "   print(acc.get_balance())   #  500\n",
        "   acc.set_balance(1000)      #  updates balance\n",
        "   print(acc.get_balance())   #  1000\n"
      ],
      "metadata": {
        "id": "4Jf7JSQ4PndN"
      }
    },
    {
      "cell_type": "markdown",
      "source": [
        "# Q9. What is a Constructor in Python?\n",
        "\n",
        "---\n",
        "\n",
        "### Definition:\n",
        "- A **constructor** in Python is a **special method** that is automatically called when an object of a class is created.  \n",
        "- Its main job is to **initialize the attributes (data members)** of the object.  \n",
        "\n",
        "---\n",
        "\n",
        "### In Python:\n",
        "- The constructor method is always written as:  \n",
        "  ```python\n",
        "  def __init__(self, arguments):\n",
        "      # initialization code\n",
        "\n",
        "  Note :- __init__ is a dunder method (double underscore)\n",
        "\n",
        "          self parameter refers to the current instance of the class\n",
        "```\n",
        "### Example 1: Simple Constructor\n",
        "```python\n",
        "class Student:\n",
        "    def __init__(self, name, age):  # constructor\n",
        "        self.name = name\n",
        "        self.age = age\n",
        "# Creating objects\n",
        "s1 = Student(\"Ritesh\", 21)\n",
        "s2 = Student(\"Aditi\", 20)\n",
        "print(s1.name, s1.age)  # Output: Ritesh 21\n",
        "print(s2.name, s2.age)  # Output: Aditi 20\n",
        "```\n",
        "### Example 2: Default Constructor\n",
        "###If no constructor is defined, Python provides a default constructor automatically.\n",
        "\n",
        "### e.g:\n",
        "```python\n",
        "class Demo:\n",
        "    pass\n",
        "\n",
        "obj = Demo()  # Default constructor is called\n",
        "```\n",
        "\n",
        "### Example 3: Constructor with Default Arguments\n",
        "```python\n",
        "class Car:\n",
        "    def __init__(self, brand=\"Toyota\"):\n",
        "        self.brand = brand\n",
        "\n",
        "c1 = Car(\"BMW\")\n",
        "c2 = Car()   # Uses default value\n",
        "\n",
        "print(c1.brand)  # BMW\n",
        "print(c2.brand)  # Toyota\n",
        "```\n",
        "### Key Points:\n",
        "\n",
        "1.   `__init__`method = constructor in Python.\n",
        "2.   It initializes object attributes at creation time.\n",
        "3.   Python automatically calls it when you create an object.\n",
        "4.   We can use default arguments to make constructors flexible.\n",
        "\n",
        "\n",
        "\n",
        "\n",
        "\n",
        "\n",
        "\n"
      ],
      "metadata": {
        "id": "HtUrIYJIRCZT"
      }
    },
    {
      "cell_type": "markdown",
      "source": [
        "# Q10. What are Class and Static Methods in Python?\n",
        "\n",
        "---\n",
        "\n",
        "### 1. Class Methods\n",
        "- A **class method** is a method that is bound to the **class itself**, not the object.\n",
        "- It can access and modify **class-level attributes** (shared across all objects).\n",
        "- Defined using the `@classmethod` decorator.\n",
        "- The first parameter is always `cls` (refers to the class).\n",
        "\n",
        "**Example:**\n",
        "```python\n",
        "class Student:\n",
        "    school = \"ABC Public School\"   # Class attribute\n",
        "\n",
        "    def __init__(self, name, age):\n",
        "        self.name = name\n",
        "        self.age = age\n",
        "\n",
        "    @classmethod\n",
        "    def change_school(cls, new_school):\n",
        "        cls.school = new_school   # modifies class-level data\n",
        "\n",
        "# Using class method\n",
        "Student.change_school(\"XYZ International School\")\n",
        "print(Student.school)  # Output: XYZ International School\n",
        "```\n",
        "### 2.  Static Methods\n",
        "\n",
        "- A **static method** does not depend on the class `(cls)` or instance `(self)`.\n",
        "\n",
        "- Used when we want a utility/helper function inside a class.\n",
        "\n",
        "- Defined using the `@staticmethod` decorator.\n",
        "\n",
        "**Example:**\n",
        "```python\n",
        "class MathOperations:\n",
        "    @staticmethod\n",
        "    def add(x, y):\n",
        "        return x + y\n",
        "\n",
        "    @staticmethod\n",
        "    def multiply(x, y):\n",
        "        return x * y\n",
        "\n",
        "# Using static methods\n",
        "print(MathOperations.add(5, 10))       # Output: 15\n",
        "print(MathOperations.multiply(3, 4))   # Output: 12\n",
        "```\n",
        "###  Key Differences Between Class & Static Methods\n",
        "\n",
        "| Feature              | Class Method (`@classmethod`) | Static Method (`@staticmethod`) |\n",
        "|----------------------|-------------------------------|----------------------------------|\n",
        "| **First Argument**   | `cls` (class reference)       | No default first argument        |\n",
        "| **Access `cls`?**    |    Yes                        |  No                            |\n",
        "| **Access `self`?**   |  No                         |  No                            |\n",
        "| **Scope**            | Works with class-level data   | Independent utility/helper       |\n",
        "| **Use Case**         | Modify/read class attributes  | General-purpose methods          |\n",
        "\n",
        "---\n",
        "\n",
        "###Real-Life Analogy\n",
        "- **Class Method:** Like a **school notice board** — ek baar badal diya, to poore school (sab students) ke liye effect hoga.  \n",
        "- **Static Method:** Like a **calculator kept in the school** — jo sab use kar sakte hain, lekin wo school ya students ke data pe depend nahi karta.\n",
        "\n",
        "\n",
        "\n"
      ],
      "metadata": {
        "id": "e_qQSUUyUynY"
      }
    },
    {
      "cell_type": "markdown",
      "source": [
        "# Q11. What is Method Overloading in Python?\n",
        "\n",
        "### Definition\n",
        "- **Method Overloading** means having **multiple methods with the same name but different parameters** (like in Java/C++).\n",
        "- Python **does not support true method overloading** because:\n",
        "  - The **latest defined method** with the same name will overwrite the previous ones.\n",
        "\n",
        "---\n",
        "\n",
        "### How Python Handles It\n",
        "- Instead of true overloading, Python uses:\n",
        "  1. **Default arguments**\n",
        "  2. **Variable-length arguments (`*args`, `**kwargs`)**\n",
        "  \n",
        "This way, a single method can handle different numbers of parameters.\n",
        "\n",
        "---\n",
        "\n",
        "### Example1: Default Arguments\n",
        "```python\n",
        "class Calculator:\n",
        "    def add(self, a=0, b=0, c=0):\n",
        "        return a + b + c\n",
        "\n",
        "calc = Calculator()\n",
        "print(calc.add(2))        # 2\n",
        "print(calc.add(2, 3))     # 5\n",
        "print(calc.add(2, 3, 4))  # 9\n",
        "```\n",
        "\n",
        "### Example2: Variable-Length Arguments\n",
        "```python\n",
        "class Calculator:\n",
        "    def add(self, *args):\n",
        "        return sum(args)\n",
        "\n",
        "calc = Calculator()\n",
        "print(calc.add(5))               # 5\n",
        "print(calc.add(2, 3, 4))         # 9\n",
        "print(calc.add(10, 20, 30, 40))  # 100\n",
        "```"
      ],
      "metadata": {
        "id": "xYK9YvnRXsM8"
      }
    },
    {
      "cell_type": "markdown",
      "source": [
        "# Q12. What is Method Overriding in OOP?\n",
        "\n",
        "### Definition\n",
        "- **Method Overriding** occurs when a **child class provides a specific implementation** of a method that is already defined in its **parent class**.\n",
        "- The method in the child class must have:\n",
        "  - The **same name**\n",
        "  - The **same number of parameters**  \n",
        "as the method in the parent class.\n",
        "\n",
        "---\n",
        "\n",
        "### Key Points\n",
        "1. Method overriding is used to **change or extend the behavior** of a parent class method.\n",
        "2. It supports **Runtime Polymorphism** (decision happens at runtime).\n",
        "3. The parent class method is replaced (or extended) when called using a child class object.\n",
        "\n",
        "---\n",
        "\n",
        "### Example1: Basic Overriding\n",
        "```python\n",
        "class Animal:\n",
        "    def sound(self):\n",
        "        return \"Some generic sound\"\n",
        "\n",
        "class Dog(Animal):\n",
        "    def sound(self):  # Overriding the parent method\n",
        "        return \"Bark\"\n",
        "\n",
        "class Cat(Animal):\n",
        "    def sound(self):  # Overriding again\n",
        "        return \"Meow\"\n",
        "\n",
        "# Test\n",
        "dog = Dog()\n",
        "cat = Cat()\n",
        "print(dog.sound())  # Bark\n",
        "print(cat.sound())  # Meow\n",
        "```\n",
        "### Example2: Using super() in Overriding\n",
        "```python\n",
        "class Vehicle:\n",
        "    def info(self):\n",
        "        return \"This is a vehicle.\"\n",
        "\n",
        "class Car(Vehicle):\n",
        "    def info(self):\n",
        "        # Extending parent method using super()\n",
        "        return super().info() + \" Specifically, it is a car.\"\n",
        "\n",
        "# Test\n",
        "car = Car()\n",
        "print(car.info())  # This is a vehicle. Specifically, it is a car.\n"
      ],
      "metadata": {
        "id": "QzmAqpWfZUhy"
      }
    },
    {
      "cell_type": "markdown",
      "source": [
        "#Q13. What is a Property Decorator in Python?\n",
        "\n",
        "### Definition\n",
        "- The **`@property` decorator** in Python is used to define methods in a class that can be accessed like **attributes** (without parentheses).\n",
        "- It allows you to:\n",
        "  1. **Encapsulate data** (hide internal representation).\n",
        "  2. Provide **getter, setter, and deleter** functionality in a clean and Pythonic way.\n",
        "- This makes your class more **readable** and **maintainable**.\n",
        "\n",
        "---\n",
        "\n",
        "### Why Use `@property`?\n",
        "- Sometimes you want to protect access to a variable and perform extra logic when **getting** or **setting** it.\n",
        "- Instead of calling explicit methods (`get_name()`, `set_name()`), you can use `@property` to access them as if they were **simple attributes**.\n",
        "\n",
        "---\n",
        "\n",
        "### Example: Using `@property`\n",
        "```python\n",
        "class Student:\n",
        "    def __init__(self, name):\n",
        "        self._name = name   # private variable convention\n",
        "\n",
        "    @property\n",
        "    def name(self):\n",
        "        return self._name   # getter\n",
        "\n",
        "    @name.setter\n",
        "    def name(self, value):\n",
        "        if not value.strip():     # validation\n",
        "            raise ValueError(\"Name cannot be empty!\")\n",
        "        self._name = value        # setter\n",
        "\n",
        "    @name.deleter\n",
        "    def name(self):\n",
        "        print(\"Deleting name...\")\n",
        "        del self._name\n",
        "\n",
        "# Test\n",
        "s = Student(\"Ritesh\")\n",
        "print(s.name)   # Access like attribute → Ritesh\n",
        "\n",
        "s.name = \"Aditi\"   # Calls setter internally\n",
        "print(s.name)      # Aditi\n",
        "\n",
        "del s.name         # Calls deleter\n",
        "```\n",
        "\n",
        "### Key Points\n",
        "\n",
        "1. @property → creates a getter method.\n",
        "\n",
        "2. @name.setter → creates a setter method.\n",
        "\n",
        "3. @name.deleter → creates a deleter method.\n",
        "\n",
        "4. You access it like a normal attribute, but behind the scenes, methods are called."
      ],
      "metadata": {
        "id": "8VRvXkIAaTky"
      }
    },
    {
      "cell_type": "markdown",
      "source": [
        "# Q14. Why is Polymorphism Important in OOP?\n",
        "\n",
        "### Definition\n",
        "- **Polymorphism** means **\"many forms\"**.\n",
        "- In OOP, polymorphism allows the **same interface (method/function)** to work with **different types of objects**.\n",
        "- Example: A method `draw()` can be defined in multiple classes (`Circle`, `Square`, `Triangle`) but each class provides its **own implementation**.\n",
        "\n",
        "---\n",
        "\n",
        "### Importance of Polymorphism\n",
        "1. **Code Reusability**  \n",
        "   - Same function name can be used for different data types or classes.  \n",
        "   - Reduces duplication in code.\n",
        "\n",
        "2. **Flexibility & Maintainability**  \n",
        "   - Makes code more **extensible**.  \n",
        "   - New classes can be added without changing the existing code structure.\n",
        "\n",
        "3. **Readability**  \n",
        "   - Clearer and cleaner code because method names stay consistent.\n",
        "\n",
        "4. **Supports Dynamic Behavior**  \n",
        "   - Python resolves which method to call at **runtime** (dynamic polymorphism).  \n",
        "   - This enables writing **generic and reusable code**.\n",
        "\n",
        "---\n",
        "\n",
        "### Example: Polymorphism in Action\n",
        "```python\n",
        "class Dog:\n",
        "    def sound(self):\n",
        "        return \"Woof!\"\n",
        "\n",
        "class Cat:\n",
        "    def sound(self):\n",
        "        return \"Meow!\"\n",
        "\n",
        "class Cow:\n",
        "    def sound(self):\n",
        "        return \"Moo!\"\n",
        "\n",
        "# Polymorphism: Same method name `sound()` behaves differently\n",
        "animals = [Dog(), Cat(), Cow()]\n",
        "\n",
        "for animal in animals:\n",
        "    print(animal.sound())\n",
        "\n",
        "# Output\n",
        " Woof!\n",
        " Meow!\n",
        " Moo!\n",
        "\n"
      ],
      "metadata": {
        "id": "crKlENHxcHZT"
      }
    },
    {
      "cell_type": "markdown",
      "source": [
        "# Q15. What is an Abstract Class in Python?\n",
        "\n",
        "### Definition\n",
        "- An **abstract class** is a class that **cannot be instantiated directly**.  \n",
        "- It serves as a **blueprint for other classes**.  \n",
        "- Abstract classes can contain:\n",
        "  - **Abstract methods** → Methods declared but not implemented.\n",
        "  - **Concrete methods** → Normal methods with implementation.\n",
        "\n",
        "In Python, abstract classes are created using the **`abc` (Abstract Base Class)** module.\n",
        "\n",
        "---\n",
        "\n",
        "### Why Use Abstract Classes?\n",
        "1. To **define a common interface** for all subclasses.\n",
        "2. To **enforce implementation** of certain methods in subclasses.\n",
        "3. To achieve **abstraction** in OOP (hiding implementation details).\n",
        "\n",
        "---\n",
        "\n",
        "### Example: Abstract Class in Python\n",
        "```python\n",
        "from abc import ABC, abstractmethod\n",
        "\n",
        "# Abstract Class\n",
        "class Vehicle(ABC):\n",
        "    \n",
        "    @abstractmethod\n",
        "    def start_engine(self):\n",
        "        pass   # abstract method (must be implemented by subclass)\n",
        "\n",
        "    def fuel_type(self):\n",
        "        return \"Petrol or Diesel\"   # concrete method\n",
        "\n",
        "# Subclass 1\n",
        "class Car(Vehicle):\n",
        "    def start_engine(self):\n",
        "        return \"Car engine started with key\"\n",
        "\n",
        "# Subclass 2\n",
        "class Bike(Vehicle):\n",
        "    def start_engine(self):\n",
        "        return \"Bike engine started with self-start\"\n",
        "\n",
        "# Objects\n",
        "car = Car()\n",
        "bike = Bike()\n",
        "\n",
        "print(car.start_engine())   # Car engine started with key\n",
        "print(bike.start_engine())  # Bike engine started with self-start\n"
      ],
      "metadata": {
        "id": "j9TI1HWT3QoM"
      }
    },
    {
      "cell_type": "markdown",
      "source": [
        "# Q16. What are the Advantages of Object-Oriented Programming (OOP)?\n",
        "\n",
        "Object-Oriented Programming (OOP) provides a structured way of writing code by organizing it around **objects** and **classes**.  \n",
        "It offers several advantages over traditional procedural programming.\n",
        "\n",
        "---\n",
        "\n",
        "### Advantages of OOP\n",
        "\n",
        "1. **Modularity (Code Reusability)**\n",
        "   - Code is divided into classes and objects, making it **modular and reusable**.\n",
        "   - Once a class is created, it can be reused in different programs.\n",
        "\n",
        "2. **Encapsulation (Data Hiding)**\n",
        "   - Sensitive data can be hidden inside a class and accessed only through defined methods.\n",
        "   - This improves **security** and prevents misuse.\n",
        "\n",
        "3. **Inheritance**\n",
        "   - Classes can **reuse and extend** functionality from other classes.\n",
        "   - Promotes **code reusability** and avoids duplication.\n",
        "\n",
        "4. **Polymorphism**\n",
        "   - The same function or method can work in **different ways** depending on the object.\n",
        "   - Makes the code more **flexible and maintainable**.\n",
        "\n",
        "5. **Abstraction**\n",
        "   - Only essential details are shown, while complex implementation is hidden.\n",
        "   - Helps in reducing complexity.\n",
        "\n",
        "6. **Maintainability**\n",
        "   - OOP code is easier to **update, modify, and maintain** because each class is independent.\n",
        "\n",
        "7. **Scalability**\n",
        "   - Large projects can be managed efficiently as OOP makes it easier to divide work into **modules (classes)**.\n",
        "\n",
        "---\n",
        "\n",
        "### Example (Real-Life Analogy)\n",
        "- Think of a **Car** class:\n",
        "  - Properties: `color`, `model`, `engine_type`\n",
        "  - Methods: `start()`, `stop()`\n",
        "- You can create multiple car objects (e.g., Honda, BMW) without rewriting the code.\n",
        "- If you need a **SportsCar**, you can inherit from Car and just add extra features.\n",
        "\n",
        "---\n",
        "\n",
        "### Summary\n",
        "- OOP makes programs **modular, reusable, secure, and easier to maintain**.  \n",
        "- Key benefits: **Encapsulation, Inheritance, Polymorphism, Abstraction**.  \n",
        "- Widely used in real-world applications like **banking systems, game development, and enterprise software**.  \n"
      ],
      "metadata": {
        "id": "Oo1eqF8O4IV9"
      }
    },
    {
      "cell_type": "markdown",
      "source": [
        "# Q17. What is the difference between a Class Variable and an Instance Variable?\n",
        "\n",
        "In Python (and OOP in general), variables inside a class can be categorized into **class variables** and **instance variables**.  \n",
        "They differ in terms of **scope, behavior, and how they are shared**.\n",
        "\n",
        "---\n",
        "\n",
        "### 1. Class Variable\n",
        "- Defined **inside a class**, but **outside any instance methods**.\n",
        "- Shared by **all objects (instances)** of the class.\n",
        "- Changing a class variable affects **all objects** unless specifically overridden by an instance.\n",
        "\n",
        "---\n",
        "\n",
        "### 2. Instance Variable\n",
        "- Defined **inside a constructor (`__init__`)** or methods using `self`.\n",
        "- Each object has its **own copy** of instance variables.\n",
        "- Changing an instance variable affects **only that specific object**.\n",
        "\n",
        "---\n",
        "\n",
        "### Example in Python\n",
        "```python\n",
        "class Student:\n",
        "    # Class Variable (shared by all instances)\n",
        "    school_name = \"ABC Public School\"\n",
        "    \n",
        "    def __init__(self, name, grade):\n",
        "        # Instance Variables (unique to each object)\n",
        "        self.name = name\n",
        "        self.grade = grade\n",
        "\n",
        "# Creating two objects\n",
        "s1 = Student(\"Ritesh\", \"10th\")\n",
        "s2 = Student(\"Aditi\", \"12th\")\n",
        "\n",
        "# Accessing variables\n",
        "print(s1.name, s1.grade, s1.school_name)  # Ritesh 10th ABC Public School\n",
        "print(s2.name, s2.grade, s2.school_name)  # Aditi 12th ABC Public School\n",
        "\n",
        "# Changing the class variable\n",
        "Student.school_name = \"XYZ International School\"\n",
        "print(s1.school_name)  # XYZ International School\n",
        "print(s2.school_name)  # XYZ International School\n",
        "\n",
        "# Changing instance variable\n",
        "s1.grade = \"11th\"\n",
        "print(s1.grade)  # 11th (only for s1)\n",
        "print(s2.grade)  # 12th (unchanged for s2)\n",
        "```\n",
        "\n",
        "\n",
        "###  Key Differences between Class Variable and Instance Variable\n",
        "\n",
        "| Feature               | Class Variable                          | Instance Variable                  |\n",
        "|------------------------|-------------------------------------------|---------------------------------------|\n",
        "| **Where defined**      | Inside class, but **outside methods**     | Inside constructor (`__init__`) or methods using `self` |\n",
        "| **Shared by**          | **All objects** of the class              | **Only one object** (unique per instance) |\n",
        "| **Change effect**      | Change affects **all instances**          | Change affects **only that particular instance** |\n",
        "| **Accessed by**        | `ClassName.variable` or `self.variable`   | Always through `self.variable` |\n",
        "| **Memory usage**       | Stored once in memory (efficient)         | Each object keeps its own copy        |\n",
        "\n"
      ],
      "metadata": {
        "id": "Dbh8ebHx5Dji"
      }
    },
    {
      "cell_type": "markdown",
      "source": [
        "#Q18. What is multiple inheritance in Python?\n",
        "\n",
        "### Definition\n",
        "Multiple inheritance in Python is a feature of object-oriented programming where a single child class can inherit properties and methods from **two or more parent classes simultaneously**.  \n",
        "It allows the child class to combine the functionality of multiple classes, promoting **code reusability, flexibility, and better modeling of real-world scenarios**.\n",
        "\n",
        "---\n",
        "\n",
        "### Syntax\n",
        "```python\n",
        "class Parent1:\n",
        "    pass\n",
        "\n",
        "class Parent2:\n",
        "    pass\n",
        "\n",
        "class Child(Parent1, Parent2):   # Child inherits from both Parent1 and Parent2\n",
        "    pass\n",
        "```\n",
        "\n",
        "## Example:-\n",
        "\n",
        "```python\n",
        "class Father:\n",
        "    def skill(self):\n",
        "        print(\"Gardening\")\n",
        "\n",
        "class Mother:\n",
        "    def skill(self):\n",
        "        print(\"Cooking\")\n",
        "\n",
        "class Child(Father, Mother):    # Multiple Inheritance\n",
        "    def skill(self):\n",
        "        print(\"Child also knows Coding\")\n",
        "\n",
        "# Object creation\n",
        "c = Child()\n",
        "c.skill()      # Child also knows Coding\n",
        "\n"
      ],
      "metadata": {
        "id": "7uOf5n3R9777"
      }
    },
    {
      "cell_type": "markdown",
      "source": [
        "# 19. Explain the purpose of ‘’__str__’ and ‘__repr__’ ‘ methods in Python\n",
        "# `__str__` and `__repr__` Methods in Python\n",
        "\n",
        "In Python, both `__str__` and `__repr__` are **special methods** (also called dunder methods — \"double underscore\") that control how objects are represented as strings. They are very useful when printing or debugging objects.\n",
        "\n",
        "---\n",
        "\n",
        "### 1. `__str__` Method\n",
        "- **Purpose:** Returns a *human-readable* string representation of the object.  \n",
        "- It is called when you use the `print()` function or `str()` on an object.  \n",
        "- Should be **informal and easy to read** for end-users.\n",
        "\n",
        "### Example:\n",
        "```python\n",
        "class Student:\n",
        "    def __init__(self, name, marks):\n",
        "        self.name = name\n",
        "        self.marks = marks\n",
        "    \n",
        "    def __str__(self):\n",
        "        return f\"Student Name: {self.name}, Marks: {self.marks}\"\n",
        "\n",
        "s = Student(\"Ritesh\", 95)\n",
        "print(s)   # Calls __str__\n",
        "           # Output Student Name: Ritesh, Marks: 95\n",
        "```\n",
        "### 2. `__repr__` Method\n",
        "- **Purpose:** Returns a *developer-friendly* string representation of the object.  \n",
        "- Mainly used for **debugging and logging**.  \n",
        "- The goal is to be **unambiguous**, often showing the code to recreate the object.  \n",
        "- If `__str__` is not defined, `print()` will fallback to `__repr__`.\n",
        "\n",
        "### Example:\n",
        "```python\n",
        "class Student:\n",
        "    def __init__(self, name, marks):\n",
        "        self.name = name\n",
        "        self.marks = marks\n",
        "    \n",
        "    def __repr__(self):\n",
        "        return f\"Student('{self.name}', {self.marks})\"\n",
        "\n",
        "s = Student(\"Aditi\", 33)\n",
        "print(repr(s))   # Calls __repr__\n",
        "                 # Output Student('Aditi', 33)\n",
        "```\n",
        "---\n",
        "### 3. Key Difference Between `__str__` and `__repr__`\n",
        "\n",
        "| Feature           | `__str__` (User-Friendly)                 | `__repr__` (Developer-Friendly)         |\n",
        "|-------------------|-------------------------------------------|-----------------------------------------|\n",
        "| Audience          | End-users / casual display                | Developers / debugging                  |\n",
        "| Output Style      | Readable, nicely formatted                | Precise, unambiguous, recreatable       |\n",
        "| Called By         | `print(obj)` or `str(obj)`                | `repr(obj)` or interactive shell prompt |\n",
        "| Fallback          | Falls back to `__repr__` if not defined   | No fallback (always exists by default)  |\n",
        "\n",
        "\n",
        "\n",
        "\n",
        "\n"
      ],
      "metadata": {
        "id": "pfD6sHUN_Omu"
      }
    },
    {
      "cell_type": "markdown",
      "source": [
        "# 20. What is the significance of the ‘super()’ function in Python?\n",
        "\n",
        "The `super()` function is a built-in function in Python that allows us to call methods from a **parent (superclass)** inside a **child (subclass)**.  \n",
        "It is mainly used in **inheritance** to avoid rewriting code and to ensure proper method resolution when multiple classes are involved.\n",
        "\n",
        "---\n",
        "\n",
        "### 1. Why Use `super()`?\n",
        "- **Code Reusability:** Prevents duplicate code by reusing parent class methods.  \n",
        "- **Maintainability:** If the parent class changes, child classes automatically inherit updated behavior.  \n",
        "- **Supports Multiple Inheritance:** Works with Python's **MRO (Method Resolution Order)** to correctly decide which class method to call.  \n",
        "- **Cleaner Syntax:** Avoids hardcoding the parent class name, making the code more flexible.\n",
        "\n",
        "---\n",
        "\n",
        "### 2. Example: Without `super()`\n",
        "```python\n",
        "class Parent:\n",
        "    def __init__(self, name):\n",
        "        self.name = name\n",
        "\n",
        "class Child(Parent):\n",
        "    def __init__(self, name, age):\n",
        "        Parent.__init__(self, name)   # explicitly calling Parent\n",
        "        self.age = age\n",
        "\n",
        "c = Child(\"Ritesh\", 21)\n",
        "print(c.name, c.age)             # Output Ritesh 21\n",
        "```\n",
        "### 3. Example: With `super()`\n",
        "```python\n",
        "class Parent:\n",
        "    def __init__(self, name):\n",
        "        self.name = name\n",
        "\n",
        "class Child(Parent):\n",
        "    def __init__(self, name, age):\n",
        "        super().__init__(name)   # super() automatically finds Parent\n",
        "        self.age = age\n",
        "\n",
        "c = Child(\"Aditi\", 20)\n",
        "print(c.name, c.age)          # Output Aditi 20\n",
        "```\n",
        "\n",
        "### 4. Example: Multiple Inheritance\n",
        "```python\n",
        "class A:\n",
        "    def show(self):\n",
        "        print(\"Class A\")\n",
        "\n",
        "class B(A):\n",
        "    def show(self):\n",
        "        super().show()\n",
        "        print(\"Class B\")\n",
        "\n",
        "class C(B):\n",
        "    def show(self):\n",
        "        super().show()\n",
        "        print(\"Class C\")\n",
        "\n",
        "obj = C()\n",
        "obj.show()\n",
        "\n",
        "# Output\n",
        "Class A\n",
        "Class B\n",
        "Class C\n",
        "\n"
      ],
      "metadata": {
        "id": "U5DquPxDO1b_"
      }
    },
    {
      "cell_type": "markdown",
      "source": [
        "# 21. What is the significance of the __del__ method in Python?\n",
        "\n",
        "In Python, the `__del__` method is a **destructor method**.  \n",
        "It is called **automatically** when an object is about to be destroyed (i.e., when it goes out of scope or its reference count drops to zero).  \n",
        "\n",
        "---\n",
        "\n",
        "### 1. Purpose of `__del__`\n",
        "- Used to **free resources** (like closing files, releasing network connections, or cleaning up memory).  \n",
        "- Called by Python’s **garbage collector** before the object is removed from memory.  \n",
        "- Helps in performing **final clean-up tasks**.\n",
        "\n",
        "---\n",
        "\n",
        "### 2. Example: Basic Use of `__del__`\n",
        "```python\n",
        "class Demo:\n",
        "    def __init__(self, name):\n",
        "        self.name = name\n",
        "        print(f\"Object {self.name} created.\")\n",
        "    \n",
        "    def __del__(self):\n",
        "        print(f\"Destructor called, object {self.name} deleted.\")\n",
        "\n",
        "obj = Demo(\"Ritesh\")\n",
        "del obj   # explicitly deleting object\n",
        "\n",
        "# Output\n",
        "Object Ritesh created.\n",
        "Destructor called, object Ritesh deleted.\n",
        "```\n",
        "\n",
        "### 3. Example: Automatic Call by Garbage Collector\n",
        "```python\n",
        "class FileHandler:\n",
        "    def __init__(self, filename):\n",
        "        self.file = open(filename, \"w\")\n",
        "        print(\"File opened.\")\n",
        "    \n",
        "    def __del__(self):\n",
        "        self.file.close()\n",
        "        print(\"File closed automatically.\")\n",
        "\n",
        "handler = FileHandler(\"test.txt\")\n",
        "# No explicit del required, __del__ will be called when program ends or object is destroyed\n",
        "\n",
        "# Output\n",
        "File opened.\n",
        "File closed automatically.\n",
        "```\n",
        "---\n",
        "### 4. Important Points About `__del__`\n",
        "- Not guaranteed to run immediately after an object goes out of scope; Python decides when garbage collection happens.\n",
        "\n",
        "- If objects have circular references, __del__ may not be called reliably.\n",
        "\n",
        "- Overusing __del__ can cause issues; prefer using context managers (with statement) for resource management.\n"
      ],
      "metadata": {
        "id": "eLtka9ZPQCVC"
      }
    },
    {
      "cell_type": "markdown",
      "source": [
        "# 22. What is the difference between @staticmethod and @classmethod in Python?\n",
        "\n",
        "In Python, both `@staticmethod` and `@classmethod` are **decorators** used to define methods inside a class that are **not regular instance methods**.  \n",
        "They look similar, but they serve different purposes.\n",
        "\n",
        "---\n",
        "\n",
        "### 1. `@staticmethod`\n",
        "- A **static method** does not take `self` (object reference) or `cls` (class reference) as the first argument.  \n",
        "- It behaves like a normal function but belongs to the class’s namespace.  \n",
        "- Can be called using either the class name or an instance.  \n",
        "- Cannot access or modify **class-level data** or **instance attributes** directly.\n",
        "\n",
        "### Example:\n",
        "```python\n",
        "class MathOperations:\n",
        "    @staticmethod\n",
        "    def add(x, y):\n",
        "        return x + y\n",
        "\n",
        "print(MathOperations.add(5, 3))   # Called using class\n",
        "                                  # Output 8\n",
        "obj = MathOperations()\n",
        "print(obj.add(10, 7))             # Called using object\n",
        "                                  # Output 17\n",
        "```\n",
        "\n",
        "### 2. `@classmethod`\n",
        "- A **class method** takes `cls` (class reference) as the first argument.  \n",
        "- It can access and modify **class-level variables**, but not instance variables directly.  \n",
        "- Useful when we want to create **factory methods** (methods that return class objects).  \n",
        "\n",
        "### Example:\n",
        "```python\n",
        "class Student:\n",
        "    count = 0   # Class variable\n",
        "    \n",
        "    def __init__(self, name):\n",
        "        self.name = name\n",
        "        Student.count += 1\n",
        "    \n",
        "    @classmethod\n",
        "    def get_count(cls):\n",
        "        return f\"Total Students: {cls.count}\"\n",
        "\n",
        "s1 = Student(\"Ritesh\")\n",
        "s2 = Student(\"Aditi\")\n",
        "\n",
        "print(Student.get_count())  # Output Total Students: 2\n",
        "```\n",
        "\n",
        "### 3. Key Differences Between `@staticmethod` and `@classmethod`\n",
        "\n",
        "| Feature              | @staticmethod                                    | @classmethod                                      |\n",
        "|----------------------|----------------------------------------------------|----------------------------------------------------|\n",
        "| First Parameter      | No `self` or `cls`                                 | Takes `cls` as the first argument                  |\n",
        "| Access to Class Data |  Cannot access or modify class/instance variables |  Can access and modify class-level data           |\n",
        "| Usage                | Utility functions related to the class             | Factory methods or operations on class-level data   |\n",
        "| Call                 | Can be called via class or object                  | Can be called via class or object                  |\n",
        "\n",
        "\n"
      ],
      "metadata": {
        "id": "PXeRkrrPQ90w"
      }
    },
    {
      "cell_type": "markdown",
      "source": [
        "# 23. How does polymorphism work in Python with inheritance?\n",
        "\n",
        "**Polymorphism** means **\"many forms\"**.  \n",
        "In Python, it allows the same method or operation to behave differently depending on the object that calls it.  \n",
        "\n",
        "When combined with **inheritance**, polymorphism lets child classes provide their **own implementation** of methods that are already defined in the parent class.\n",
        "\n",
        "---\n",
        "\n",
        "### 1. How Polymorphism Works with Inheritance\n",
        "- A **parent class** defines a method.  \n",
        "- **Child classes** override (redefine) that method with their own behavior.  \n",
        "- When we call the method on different objects, Python automatically decides which version to execute (based on the object type).\n",
        "\n",
        "---\n",
        "\n",
        "### 2. Example: Basic Polymorphism with Inheritance\n",
        "```python\n",
        "class Animal:\n",
        "    def sound(self):\n",
        "        return \"Some generic animal sound\"\n",
        "\n",
        "class Dog(Animal):\n",
        "    def sound(self):\n",
        "        return \"Bark\"\n",
        "\n",
        "class Cat(Animal):\n",
        "    def sound(self):\n",
        "        return \"Meow\"\n",
        "\n",
        "# Polymorphism in action\n",
        "animals = [Dog(), Cat(), Animal()]\n",
        "\n",
        "for a in animals:\n",
        "    print(a.sound())\n",
        "\n",
        "# Output\n",
        "Bark\n",
        "Meow\n",
        "Some generic animal sound\n",
        "```\n",
        "\n",
        "### 3. Example: Using Polymorphism in Functions\n",
        "```python\n",
        "class Bird(Animal):\n",
        "    def sound(self):\n",
        "        return \"Chirp\"\n",
        "\n",
        "def make_sound(animal):\n",
        "    print(animal.sound())\n",
        "\n",
        "make_sound(Dog())   # Bark\n",
        "make_sound(Cat())   # Meow\n",
        "make_sound(Bird())  # Chirp\n",
        "```\n",
        "---\n",
        "### 4. Key Advantages of Polymorphism\n",
        "- Flexibility: Same interface works with different types of objects.\n",
        "\n",
        "- Reusability: Functions or methods can handle objects of different classes.\n",
        "\n",
        "- Maintainability: Easier to extend programs by adding new subclasses.\n"
      ],
      "metadata": {
        "id": "Z3LiZh4TSWfz"
      }
    },
    {
      "cell_type": "markdown",
      "source": [
        "# 24. What is method chaining in Python OOP?\n",
        "\n",
        "**Method chaining** is a technique in object-oriented programming where **multiple methods are called sequentially on the same object in a single line**.  \n",
        "This is achieved by designing methods to **return `self`**, allowing the next method to be called directly on the same instance.\n",
        "\n",
        "---\n",
        "\n",
        "### 1. Why Use Method Chaining?\n",
        "- **Concise Code:** Combine multiple operations into a single statement.  \n",
        "- **Fluent Interface:** Improves readability and expresses a flow of operations naturally.  \n",
        "- **Convenient:** Reduces the need to repeatedly reference the object.\n",
        "\n",
        "---\n",
        "\n",
        "### 2. Example: Simple Method Chaining\n",
        "```python\n",
        "class Person:\n",
        "    def __init__(self, name):\n",
        "        self.name = name\n",
        "        self.age = 0\n",
        "\n",
        "    def set_age(self, age):\n",
        "        self.age = age\n",
        "        return self   # Return self to allow chaining\n",
        "\n",
        "    def greet(self):\n",
        "        print(f\"Hello, my name is {self.name} and I am {self.age} years old.\")\n",
        "        return self   # Return self to continue chaining\n",
        "\n",
        "# Using method chaining\n",
        "p = Person(\"Ritesh\")\n",
        "p.set_age(21).greet() # Output Hello, my name is Ritesh and I am 21 years old.\n",
        "```\n",
        "###3. Example: Chaining Multiple Methods\n",
        "```python\n",
        "class Car:\n",
        "    def __init__(self, brand):\n",
        "        self.brand = brand\n",
        "        self.speed = 0\n",
        "\n",
        "    def accelerate(self, value):\n",
        "        self.speed += value\n",
        "        return self\n",
        "\n",
        "    def brake(self, value):\n",
        "        self.speed -= value\n",
        "        return self\n",
        "\n",
        "    def display_speed(self):\n",
        "        print(f\"{self.brand} is moving at {self.speed} km/h\")\n",
        "        return self\n",
        "\n",
        "# Chaining multiple methods\n",
        "my_car = Car(\"BMW\")\n",
        "my_car.accelerate(50).brake(10).display_speed() # Output BMW is moving at 40 km/h\n",
        "```\n",
        "\n",
        "### 4. Key Points About Method Chaining\n",
        "- Methods must return self to enable chaining.\n",
        "\n",
        "- Improves code readability and fluency.\n",
        "\n",
        "- Widely used in libraries like Pandas, SQLAlchemy, and Matplotlib.\n",
        "\n",
        "\n",
        "\n",
        "\n"
      ],
      "metadata": {
        "id": "J56ycBcBTJlS"
      }
    },
    {
      "cell_type": "markdown",
      "source": [
        "# 25. What is the purpose of the __call__ method in Python?\n",
        "\n",
        "In Python, the `__call__` method is a **special (dunder) method** that allows an instance of a class to be **called like a regular function**.  \n",
        "This means that after defining `__call__`, you can use the object with parentheses `()` as if it were a function.\n",
        "\n",
        "---\n",
        "\n",
        "### 1. Why Use `__call__`?\n",
        "- **Function-like behavior:** Treat objects as callable functions.  \n",
        "- **Encapsulation:** Combine data and behavior in an object that can still be invoked easily.  \n",
        "- **Flexibility:** Useful in designing **functors, decorators, or APIs** where objects need to be callable.  \n",
        "\n",
        "---\n",
        "\n",
        "### 2. Example: Basic Use of `__call__`\n",
        "```python\n",
        "class Adder:\n",
        "    def __init__(self, x):\n",
        "        self.x = x\n",
        "\n",
        "    def __call__(self, y):\n",
        "        return self.x + y\n",
        "\n",
        "add_five = Adder(5)\n",
        "print(add_five(10))  # Calling the object like a function\n",
        "                     # Output 15\n",
        "```\n",
        "\n",
        "### 3. Example: __call__ for Logging\n",
        "\n",
        "```python\n",
        "class Logger:\n",
        "    def __init__(self, prefix):\n",
        "        self.prefix = prefix\n",
        "\n",
        "    def __call__(self, message):\n",
        "        print(f\"{self.prefix}: {message}\")\n",
        "\n",
        "log = Logger(\"INFO\")\n",
        "log(\"This is a log message\") # Output INFO: This is a log message\n",
        "```\n",
        "\n",
        "### 4. Key Points About `__call__`\n",
        "- Makes objects callable like functions.\n",
        "\n",
        "- Can accept any number of arguments (`*args` and `**kwargs`).\n",
        "\n",
        "- Useful in functional programming patterns, decorators, and APIs.\n",
        "\n",
        "- Enhances flexibility and readability when objects encapsulate behavior.\n",
        "---\n",
        "\n",
        "\n"
      ],
      "metadata": {
        "id": "UEKrtXc2UCSL"
      }
    },
    {
      "cell_type": "markdown",
      "source": [
        "# **Practical Questions:-**"
      ],
      "metadata": {
        "id": "2kw0C2PorKAl"
      }
    },
    {
      "cell_type": "markdown",
      "source": [
        "# 1. Create a parent class Animal with a method speak() that prints a generic message. Create a child class Dog that overrides the speak() method to print \"Bark!\"."
      ],
      "metadata": {
        "id": "e36CcGDhr4tX"
      }
    },
    {
      "cell_type": "code",
      "source": [
        "# Parent class\n",
        "class Animal:\n",
        "    def speak(self):\n",
        "        print(\"This is a generic animal sound\")\n",
        "\n",
        "# Child class\n",
        "class Dog(Animal):\n",
        "    def speak(self):\n",
        "        print(\"Bark!\")\n",
        "\n",
        "\n",
        "animal = Animal()\n",
        "animal.speak()\n",
        "\n",
        "dog = Dog()\n",
        "dog.speak()\n"
      ],
      "metadata": {
        "colab": {
          "base_uri": "https://localhost:8080/"
        },
        "id": "uc1UN4FVssVf",
        "outputId": "d77dd600-5bf5-4bfc-c2a2-d43e5db7a855"
      },
      "execution_count": 1,
      "outputs": [
        {
          "output_type": "stream",
          "name": "stdout",
          "text": [
            "This is a generic animal sound\n",
            "Bark!\n"
          ]
        }
      ]
    },
    {
      "cell_type": "markdown",
      "source": [
        "# 2. Write a program to create an abstract class Shape with a method area(). Derive classes Circle and Rectangle from it and implement the area() method in both."
      ],
      "metadata": {
        "id": "XK2t2C-JvAeA"
      }
    },
    {
      "cell_type": "code",
      "source": [
        "from abc import ABC, abstractmethod\n",
        "\n",
        "# Abstract class\n",
        "class Shape(ABC):\n",
        "    @abstractmethod\n",
        "    def area(self):\n",
        "        pass\n",
        "\n",
        "# Circle class\n",
        "class Circle(Shape):\n",
        "    def __init__(self, radius):\n",
        "        self.radius = radius\n",
        "\n",
        "    def area(self):\n",
        "        return 3.14 * self.radius * self.radius\n",
        "\n",
        "# Rectangle class\n",
        "class Rectangle(Shape):\n",
        "    def __init__(self, length, width):\n",
        "        self.length = length\n",
        "        self.width = width\n",
        "\n",
        "    def area(self):\n",
        "        return self.length * self.width\n",
        "\n",
        "\n",
        "c = Circle(5)\n",
        "r = Rectangle(4, 6)\n",
        "\n",
        "print(\"Circle area:\", c.area())\n",
        "print(\"Rectangle area:\", r.area())\n"
      ],
      "metadata": {
        "colab": {
          "base_uri": "https://localhost:8080/"
        },
        "id": "V2GWnfwBvcyW",
        "outputId": "b2a69ad8-0425-4f30-b757-c7e5da52c086"
      },
      "execution_count": 3,
      "outputs": [
        {
          "output_type": "stream",
          "name": "stdout",
          "text": [
            "Circle area: 78.5\n",
            "Rectangle area: 24\n"
          ]
        }
      ]
    },
    {
      "cell_type": "markdown",
      "source": [
        "#3. Implement a multi-level inheritance scenario where a class Vehicle has an attribute type. Derive a class Car and further derive a class ElectricCar that adds a battery attribute"
      ],
      "metadata": {
        "id": "m2d35_ifwRed"
      }
    },
    {
      "cell_type": "code",
      "source": [
        "# Parent class\n",
        "class Vehicle:\n",
        "    def __init__(self, type):\n",
        "        self.type = type\n",
        "\n",
        "# Child class\n",
        "class Car(Vehicle):\n",
        "    def __init__(self, type, model):\n",
        "        super().__init__(type)\n",
        "        self.model = model\n",
        "\n",
        "# Grandchild class\n",
        "class ElectricCar(Car):\n",
        "    def __init__(self, type, model, battery):\n",
        "        super().__init__(type, model)\n",
        "        self.battery = battery\n",
        "\n",
        "\n",
        "ecar = ElectricCar(\"Car\", \"Tesla Model 3\", \"75 kWh\")\n",
        "print(\"Type:\", ecar.type)\n",
        "print(\"Model:\", ecar.model)\n",
        "print(\"Battery:\", ecar.battery)\n"
      ],
      "metadata": {
        "colab": {
          "base_uri": "https://localhost:8080/"
        },
        "id": "NzltEJvPweqY",
        "outputId": "8cdfd151-9b4f-4b79-c0a6-84335003c2bc"
      },
      "execution_count": 4,
      "outputs": [
        {
          "output_type": "stream",
          "name": "stdout",
          "text": [
            "Type: Car\n",
            "Model: Tesla Model 3\n",
            "Battery: 75 kWh\n"
          ]
        }
      ]
    },
    {
      "cell_type": "markdown",
      "source": [
        "# 4. Demonstrate polymorphism by creating a base class Bird with a method fly(). Create two derived classes Sparrow and Penguin that override the fly() method.\n"
      ],
      "metadata": {
        "id": "qeaTV0QqxoFu"
      }
    },
    {
      "cell_type": "code",
      "source": [
        "# Base class\n",
        "class Bird:\n",
        "    def fly(self):\n",
        "        print(\"Some birds can fly\")\n",
        "\n",
        "# Derived class Sparrow\n",
        "class Sparrow(Bird):\n",
        "    def fly(self):\n",
        "        print(\"Sparrow can fly high\")\n",
        "\n",
        "# Derived class Penguin\n",
        "class Penguin(Bird):\n",
        "    def fly(self):\n",
        "        print(\"Penguin cannot fly\")\n",
        "\n",
        "birds = [Sparrow(), Penguin()]\n",
        "\n",
        "for bird in birds:\n",
        "    bird.fly()\n"
      ],
      "metadata": {
        "colab": {
          "base_uri": "https://localhost:8080/"
        },
        "id": "GyG-dpaKx2yK",
        "outputId": "6175b5fc-9f34-4f8c-de80-a64dbdf0166e"
      },
      "execution_count": 5,
      "outputs": [
        {
          "output_type": "stream",
          "name": "stdout",
          "text": [
            "Sparrow can fly high\n",
            "Penguin cannot fly\n"
          ]
        }
      ]
    },
    {
      "cell_type": "markdown",
      "source": [
        "# 5. Write a program to demonstrate encapsulation by creating a class BankAccount with private attributes balance and methods to deposit, withdraw, and check balance."
      ],
      "metadata": {
        "id": "UWlqU3RfyGE3"
      }
    },
    {
      "cell_type": "code",
      "source": [
        "# Encapsulation example\n",
        "class BankAccount:\n",
        "    def __init__(self, balance):\n",
        "        self.__balance = balance  # private attribute\n",
        "\n",
        "    def deposit(self, amount):\n",
        "        self.__balance += amount\n",
        "        print(f\"Deposited: {amount}\")\n",
        "\n",
        "    def withdraw(self, amount):\n",
        "        if amount <= self.__balance:\n",
        "            self.__balance -= amount\n",
        "            print(f\"Withdrawn: {amount}\")\n",
        "        else:\n",
        "            print(\"Insufficient balance\")\n",
        "\n",
        "    def check_balance(self):\n",
        "        print(f\"Balance: {self.__balance}\")\n",
        "\n",
        "account = BankAccount(1000)\n",
        "account.deposit(500)\n",
        "account.withdraw(300)\n",
        "account.check_balance()\n"
      ],
      "metadata": {
        "colab": {
          "base_uri": "https://localhost:8080/"
        },
        "id": "eBIPTsVJyYQa",
        "outputId": "e075da6b-8dbf-49d1-f26b-43c238e7ba17"
      },
      "execution_count": 6,
      "outputs": [
        {
          "output_type": "stream",
          "name": "stdout",
          "text": [
            "Deposited: 500\n",
            "Withdrawn: 300\n",
            "Balance: 1200\n"
          ]
        }
      ]
    },
    {
      "cell_type": "markdown",
      "source": [
        "# 6. Demonstrate runtime polymorphism using a method play() in a base class Instrument. Derive classes Guitar and Piano that implement their own version of play()."
      ],
      "metadata": {
        "id": "t-hzWObbyh_M"
      }
    },
    {
      "cell_type": "code",
      "source": [
        "# Base class\n",
        "class Instrument:\n",
        "    def play(self):\n",
        "        print(\"Playing instrument\")\n",
        "\n",
        "# Derived class Guitar\n",
        "class Guitar(Instrument):\n",
        "    def play(self):\n",
        "        print(\"Playing guitar\")\n",
        "\n",
        "# Derived class Piano\n",
        "class Piano(Instrument):\n",
        "    def play(self):\n",
        "        print(\"Playing piano\")\n",
        "\n",
        "# Testing runtime polymorphism\n",
        "instruments = [Guitar(), Piano()]\n",
        "\n",
        "for instrument in instruments:\n",
        "    instrument.play()\n"
      ],
      "metadata": {
        "colab": {
          "base_uri": "https://localhost:8080/"
        },
        "id": "74eDE8Sdypuh",
        "outputId": "c6d90eec-3964-4146-8282-44a7b1e925de"
      },
      "execution_count": 7,
      "outputs": [
        {
          "output_type": "stream",
          "name": "stdout",
          "text": [
            "Playing guitar\n",
            "Playing piano\n"
          ]
        }
      ]
    },
    {
      "cell_type": "markdown",
      "source": [
        "# 7. Create a class MathOperations with a class method add_numbers() to add two numbers and a static method subtract_numbers() to subtract two numbers."
      ],
      "metadata": {
        "id": "kpaUtpxZy081"
      }
    },
    {
      "cell_type": "code",
      "source": [
        "# Class demonstrating classmethod and staticmethod\n",
        "class MathOperations:\n",
        "\n",
        "    @classmethod\n",
        "    def add_numbers(cls, a, b):\n",
        "        return a + b\n",
        "\n",
        "    @staticmethod\n",
        "    def subtract_numbers(a, b):\n",
        "        return a - b\n",
        "\n",
        "print(\"Addition:\", MathOperations.add_numbers(10, 5))\n",
        "print(\"Subtraction:\", MathOperations.subtract_numbers(10, 5))\n"
      ],
      "metadata": {
        "colab": {
          "base_uri": "https://localhost:8080/"
        },
        "id": "QYejLHcDzDpb",
        "outputId": "963e531e-e978-4074-9d22-2fd47f4cb65a"
      },
      "execution_count": 8,
      "outputs": [
        {
          "output_type": "stream",
          "name": "stdout",
          "text": [
            "Addition: 15\n",
            "Subtraction: 5\n"
          ]
        }
      ]
    },
    {
      "cell_type": "markdown",
      "source": [
        "# 8. Implement a class Person with a class method to count the total number of persons created."
      ],
      "metadata": {
        "id": "w9yMtUKszgfS"
      }
    },
    {
      "cell_type": "code",
      "source": [
        "# Class demonstrating counting instances using class method\n",
        "class Person:\n",
        "    count = 0  # Class variable to track number of persons\n",
        "\n",
        "    def __init__(self, name):\n",
        "        self.name = name\n",
        "        Person.count += 1\n",
        "\n",
        "    @classmethod\n",
        "    def total_persons(cls):\n",
        "        return cls.count\n",
        "\n",
        "\n",
        "p1 = Person(\"Ritesh\")\n",
        "p2 = Person(\"Aditi\")\n",
        "p3 = Person(\"Anshu\")\n",
        "\n",
        "print(\"Total persons created:\", Person.total_persons())\n"
      ],
      "metadata": {
        "colab": {
          "base_uri": "https://localhost:8080/"
        },
        "id": "TDi0Bdvyzl2E",
        "outputId": "207ce011-c35c-4303-e66a-33aeeb6ed163"
      },
      "execution_count": 9,
      "outputs": [
        {
          "output_type": "stream",
          "name": "stdout",
          "text": [
            "Total persons created: 3\n"
          ]
        }
      ]
    },
    {
      "cell_type": "markdown",
      "source": [
        "# 9. Write a class Fraction with attributes numerator and denominator. Override the str method to display the fraction as \"numerator/denominator\"."
      ],
      "metadata": {
        "id": "fuItCR-p0pKr"
      }
    },
    {
      "cell_type": "code",
      "source": [
        "# Class demonstrating __str__ method\n",
        "class Fraction:\n",
        "    def __init__(self, numerator, denominator):\n",
        "        self.numerator = numerator\n",
        "        self.denominator = denominator\n",
        "\n",
        "    def __str__(self):\n",
        "        return f\"{self.numerator}/{self.denominator}\"\n",
        "\n",
        "\n",
        "f = Fraction(3, 4)\n",
        "print(f)\n"
      ],
      "metadata": {
        "colab": {
          "base_uri": "https://localhost:8080/"
        },
        "id": "4bcGIRiA0wR5",
        "outputId": "b52ccda6-be0c-4f44-d5d9-d0191c0952a2"
      },
      "execution_count": 10,
      "outputs": [
        {
          "output_type": "stream",
          "name": "stdout",
          "text": [
            "3/4\n"
          ]
        }
      ]
    },
    {
      "cell_type": "markdown",
      "source": [
        "# 10. Demonstrate operator overloading by creating a class Vector and overriding the add method to add two vectors"
      ],
      "metadata": {
        "id": "rG3TZ2zJ1DXN"
      }
    },
    {
      "cell_type": "code",
      "source": [
        "# Class demonstrating operator overloading\n",
        "class Vector:\n",
        "    def __init__(self, x, y):\n",
        "        self.x = x\n",
        "        self.y = y\n",
        "\n",
        "    # Overloading the + operator\n",
        "    def __add__(self, other):\n",
        "        return Vector(self.x + other.x, self.y + other.y)\n",
        "\n",
        "    def __str__(self):\n",
        "        return f\"({self.x}, {self.y})\"\n",
        "\n",
        "\n",
        "v1 = Vector(2, 3)\n",
        "v2 = Vector(4, 5)\n",
        "v3 = v1 + v2\n",
        "\n",
        "print(\"Vector addition:\", v3)\n"
      ],
      "metadata": {
        "colab": {
          "base_uri": "https://localhost:8080/"
        },
        "id": "eSJvR03u1Iu_",
        "outputId": "4e39325b-758a-4f38-b849-f3c6ee481527"
      },
      "execution_count": 11,
      "outputs": [
        {
          "output_type": "stream",
          "name": "stdout",
          "text": [
            "Vector addition: (6, 8)\n"
          ]
        }
      ]
    },
    {
      "cell_type": "markdown",
      "source": [
        "# 11. Create a class Person with attributes name and age. Add a method greet() that prints \"Hello, my name is {name} and I am {age} years old.\""
      ],
      "metadata": {
        "id": "L2zI8iGv1zCN"
      }
    },
    {
      "cell_type": "code",
      "source": [
        "# Simple class with instance attributes and method\n",
        "class Person:\n",
        "    def __init__(self, name, age):\n",
        "        self.name = name\n",
        "        self.age = age\n",
        "\n",
        "    def greet(self):\n",
        "        print(f\"Hello, my name is {self.name} and I am {self.age} years old.\")\n",
        "\n",
        "# Testing\n",
        "p = Person(\"Ritesh\", 21)\n",
        "p1 = Person(\"Aditi\",20)\n",
        "p.greet()\n",
        "p1.greet()\n"
      ],
      "metadata": {
        "colab": {
          "base_uri": "https://localhost:8080/"
        },
        "id": "6dGZsCjn21s2",
        "outputId": "5fed320b-0153-47b8-dd78-3ec14c72cc30"
      },
      "execution_count": 12,
      "outputs": [
        {
          "output_type": "stream",
          "name": "stdout",
          "text": [
            "Hello, my name is Ritesh and I am 21 years old.\n",
            "Hello, my name is Aditi and I am 20 years old.\n"
          ]
        }
      ]
    },
    {
      "cell_type": "markdown",
      "source": [
        "# 12. Implement a class Student with attributes name and grades. Create a method average_grade() to compute the average of the grades."
      ],
      "metadata": {
        "id": "ZZKWvHYL3Kaj"
      }
    },
    {
      "cell_type": "code",
      "source": [
        "# Class demonstrating method to calculate average\n",
        "class Student:\n",
        "    def __init__(self, name, grades):\n",
        "        self.name = name\n",
        "        self.grades = grades  # List of grades\n",
        "\n",
        "    def average_grade(self):\n",
        "        return sum(self.grades) / len(self.grades) if self.grades else 0\n",
        "\n",
        "s = Student(\"Ritesh\", [85, 90, 78, 92])\n",
        "print(\"Average grade:\", s.average_grade())\n"
      ],
      "metadata": {
        "colab": {
          "base_uri": "https://localhost:8080/"
        },
        "id": "1t2H9ALd3PhZ",
        "outputId": "b371e75f-0c73-4829-94a2-59f7f3fceea0"
      },
      "execution_count": 13,
      "outputs": [
        {
          "output_type": "stream",
          "name": "stdout",
          "text": [
            "Average grade: 86.25\n"
          ]
        }
      ]
    },
    {
      "cell_type": "markdown",
      "source": [
        "# 3. Create a class Rectangle with methods set_dimensions() to set the dimensions and area() to calculate the area."
      ],
      "metadata": {
        "id": "CbtODqpd3iWS"
      }
    },
    {
      "cell_type": "code",
      "source": [
        "# Rectangle class with set_dimensions and area methods\n",
        "class Rectangle:\n",
        "    def set_dimensions(self, length, width):\n",
        "        self.length = length\n",
        "        self.width = width\n",
        "\n",
        "    def area(self):\n",
        "        return self.length * self.width\n",
        "\n",
        "# Testing\n",
        "rect = Rectangle()\n",
        "rect.set_dimensions(5, 3)\n",
        "print(\"Area of rectangle:\", rect.area())\n"
      ],
      "metadata": {
        "colab": {
          "base_uri": "https://localhost:8080/"
        },
        "id": "oOPuvCPv3k4f",
        "outputId": "012fc524-5817-4752-8556-b7cef5d4819b"
      },
      "execution_count": 14,
      "outputs": [
        {
          "output_type": "stream",
          "name": "stdout",
          "text": [
            "Area of rectangle: 15\n"
          ]
        }
      ]
    },
    {
      "cell_type": "markdown",
      "source": [
        "# 14. Create a class Employee with a method calculate_salary() that computes the salary based on hours worked and hourly rate. Create a derived class Manager that adds a bonus to the salary"
      ],
      "metadata": {
        "id": "JwkitUnd3shS"
      }
    },
    {
      "cell_type": "code",
      "source": [
        "# Base class\n",
        "class Employee:\n",
        "    def __init__(self, name, hours_worked, hourly_rate):\n",
        "        self.name = name\n",
        "        self.hours_worked = hours_worked\n",
        "        self.hourly_rate = hourly_rate\n",
        "\n",
        "    def calculate_salary(self):\n",
        "        return self.hours_worked * self.hourly_rate\n",
        "\n",
        "# Derived class\n",
        "class Manager(Employee):\n",
        "    def __init__(self, name, hours_worked, hourly_rate, bonus):\n",
        "        super().__init__(name, hours_worked, hourly_rate)\n",
        "        self.bonus = bonus\n",
        "\n",
        "    def calculate_salary(self):\n",
        "        return super().calculate_salary() + self.bonus\n",
        "\n",
        "# Testing\n",
        "emp = Employee(\"Ritesh\", 40, 20)\n",
        "mgr = Manager(\"Aditi\", 40, 20, 500)\n",
        "\n",
        "print(\"Employee salary:\", emp.calculate_salary())\n",
        "print(\"Manager salary:\", mgr.calculate_salary())\n"
      ],
      "metadata": {
        "colab": {
          "base_uri": "https://localhost:8080/"
        },
        "id": "YoUpQcsD3xji",
        "outputId": "c20ac01f-3757-4f6d-d169-03e5408d454c"
      },
      "execution_count": 15,
      "outputs": [
        {
          "output_type": "stream",
          "name": "stdout",
          "text": [
            "Employee salary: 800\n",
            "Manager salary: 1300\n"
          ]
        }
      ]
    },
    {
      "cell_type": "markdown",
      "source": [
        "# 15. Create a class Product with attributes name, price, and quantity. Implement a method total_price() that calculates the total price of the product."
      ],
      "metadata": {
        "id": "xGD_L4z54VJT"
      }
    },
    {
      "cell_type": "code",
      "source": [
        "# Product class with total_price method\n",
        "class Product:\n",
        "    def __init__(self, name, price, quantity):\n",
        "        self.name = name\n",
        "        self.price = price\n",
        "        self.quantity = quantity\n",
        "\n",
        "    def total_price(self):\n",
        "        return self.price * self.quantity\n",
        "\n",
        "# Testing\n",
        "p = Product(\"Laptop\", 500, 3)\n",
        "print(\"Total price:\", p.total_price())\n"
      ],
      "metadata": {
        "colab": {
          "base_uri": "https://localhost:8080/"
        },
        "id": "NFfYaq4B4aXf",
        "outputId": "e81edfcd-5df6-4cd0-dcf5-fba15d36f6c9"
      },
      "execution_count": 16,
      "outputs": [
        {
          "output_type": "stream",
          "name": "stdout",
          "text": [
            "Total price: 1500\n"
          ]
        }
      ]
    },
    {
      "cell_type": "markdown",
      "source": [
        "# 16. Create a class Animal with an abstract method sound(). Create two derived classes Cow and Sheep that implement the sound() method."
      ],
      "metadata": {
        "id": "0DpmEbFe45LQ"
      }
    },
    {
      "cell_type": "code",
      "source": [
        "from abc import ABC, abstractmethod\n",
        "\n",
        "# Abstract class\n",
        "class Animal(ABC):\n",
        "    @abstractmethod\n",
        "    def sound(self):\n",
        "        pass\n",
        "\n",
        "# Derived class Cow\n",
        "class Cow(Animal):\n",
        "    def sound(self):\n",
        "        print(\"Moo\")\n",
        "\n",
        "# Derived class Sheep\n",
        "class Sheep(Animal):\n",
        "    def sound(self):\n",
        "        print(\"Baa\")\n",
        "\n",
        "\n",
        "cow = Cow()\n",
        "sheep = Sheep()\n",
        "\n",
        "cow.sound()\n",
        "sheep.sound()\n"
      ],
      "metadata": {
        "colab": {
          "base_uri": "https://localhost:8080/"
        },
        "id": "LOUQd90A49ZR",
        "outputId": "5841ef3a-cab6-42cf-fd7d-00e6fc6d87e7"
      },
      "execution_count": 17,
      "outputs": [
        {
          "output_type": "stream",
          "name": "stdout",
          "text": [
            "Moo\n",
            "Baa\n"
          ]
        }
      ]
    },
    {
      "cell_type": "markdown",
      "source": [
        "# 17. Create a class Book with attributes title, author, and year_published. Add a method get_book_info() that returns a formatted string with the book's details."
      ],
      "metadata": {
        "id": "YajpKQuj5HjQ"
      }
    },
    {
      "cell_type": "code",
      "source": [
        "# Book class with get_book_info method\n",
        "class Book:\n",
        "    def __init__(self, title, author, year_published):\n",
        "        self.title = title\n",
        "        self.author = author\n",
        "        self.year_published = year_published\n",
        "\n",
        "    def get_book_info(self):\n",
        "        return f\"'{self.title}' by {self.author}, published in {self.year_published}\"\n",
        "\n",
        "\n",
        "b = Book(\"1984\", \"George Orwell\", 1949)\n",
        "print(b.get_book_info())\n"
      ],
      "metadata": {
        "colab": {
          "base_uri": "https://localhost:8080/"
        },
        "id": "edWieXUz5Pz9",
        "outputId": "9aa80bac-a942-40b1-8604-efcfb3d67b7a"
      },
      "execution_count": 18,
      "outputs": [
        {
          "output_type": "stream",
          "name": "stdout",
          "text": [
            "'1984' by George Orwell, published in 1949\n"
          ]
        }
      ]
    },
    {
      "cell_type": "markdown",
      "source": [
        "# 18. Create a class House with attributes address and price. Create a derived class Mansion that adds an attribute number_of_rooms."
      ],
      "metadata": {
        "id": "N1NlCYEf5f1F"
      }
    },
    {
      "cell_type": "code",
      "source": [
        "# Parent class\n",
        "class House:\n",
        "    def __init__(self, address, price):\n",
        "        self.address = address\n",
        "        self.price = price\n",
        "\n",
        "# Derived class\n",
        "class Mansion(House):\n",
        "    def __init__(self, address, price, number_of_rooms):\n",
        "        super().__init__(address, price)\n",
        "        self.number_of_rooms = number_of_rooms\n",
        "\n",
        "# Testing\n",
        "m = Mansion(\"123 Luxury St\", 500000, 8)\n",
        "print(\"Address:\", m.address)\n",
        "print(\"Price:\", m.price)\n",
        "print(\"Number of rooms:\", m.number_of_rooms)\n"
      ],
      "metadata": {
        "colab": {
          "base_uri": "https://localhost:8080/"
        },
        "id": "YjIn1njQ5jq5",
        "outputId": "e9617c23-d5cf-4d0f-8ba9-a64fd9224970"
      },
      "execution_count": 19,
      "outputs": [
        {
          "output_type": "stream",
          "name": "stdout",
          "text": [
            "Address: 123 Luxury St\n",
            "Price: 500000\n",
            "Number of rooms: 8\n"
          ]
        }
      ]
    }
  ]
}